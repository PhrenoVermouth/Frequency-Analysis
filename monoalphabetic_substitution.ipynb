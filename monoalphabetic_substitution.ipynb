{
 "cells": [
  {
   "cell_type": "code",
   "execution_count": 3,
   "metadata": {},
   "outputs": [],
   "source": [
    "import sys, random"
   ]
  },
  {
   "cell_type": "code",
   "execution_count": 4,
   "metadata": {},
   "outputs": [],
   "source": [
    "LETTERS= ' abcdefghijklmnopqrstuvwxyz'#有空格加入到字母表参与排序\n"
   ]
  },
  {
   "cell_type": "markdown",
   "metadata": {},
   "source": [
    "这一段主要是检查密钥是否正确,如果不正确输出错误提示,然后sys.exit终止程序"
   ]
  },
  {
   "cell_type": "code",
   "execution_count": 5,
   "metadata": {},
   "outputs": [],
   "source": [
    "def checkValidKey(key):\n",
    "    if key.isupper():\n",
    "        key=key.lower()\n",
    "    keyList = list(key)\n",
    "    lettersList = list(LETTERS)\n",
    "    keyList.sort()\n",
    "    lettersList.sort()\n",
    "    if keyList != lettersList:\n",
    "        sys.exit('There is an error in the key or symbol set.')\n",
    "    return "
   ]
  },
  {
   "cell_type": "markdown",
   "metadata": {},
   "source": [
    "因为该密码加密和解密是互逆的,因此写在一个函数里面,并用mode这个变量控制.当mode=encrypt的时候加密,\n",
    "mode=decrypt的时候则为解密.加密(解密)过程的实现很简单,LETTERS里面26个字母如果在材料(message)里面出现\n",
    "则替换密钥相同位置的字母.这部分通过:\n",
    "\n",
    "    symIndex = charsA.find(symbol)\n",
    "    translated += charsB[symIndex]\n",
    "\n",
    "两句实现,message中遇到字母symbol则通过find()函数找到在LETTERS(key)中的位置,并找到对应位置key(LETTERS)\n",
    "对应的字母.\n",
    "\n",
    "这就是以LETTERS(key)$\\to$key(LETTERS)的映射作为改密码的加密和解密过程"
   ]
  },
  {
   "cell_type": "code",
   "execution_count": 6,
   "metadata": {},
   "outputs": [],
   "source": [
    "\n",
    "    #加密函数\n",
    "def MonoAlphabeticCipher(key, message, mode):\n",
    "    message=message.lower()\n",
    "    message=message.replace('\\n','')\n",
    "    checkValidKey(key) #检查密钥\n",
    "    translated = ''\n",
    "    charsA = LETTERS\n",
    "    charsB = key\n",
    "    if mode == 'decrypt':            \n",
    "        charsA, charsB = charsB, charsA\n",
    "    for symbol in message:\n",
    "        if symbol in charsA:\n",
    "            symIndex = charsA.find(symbol)\n",
    "            translated += charsB[symIndex]\n",
    "        else:\n",
    "            translated += symbol\n",
    "    return translated \n"
   ]
  },
  {
   "cell_type": "code",
   "execution_count": 7,
   "metadata": {},
   "outputs": [],
   "source": [
    "def getRandomKey():\n",
    "    key = list(LETTERS)\n",
    "    random.shuffle(key)\n",
    "    return ''.join(key)"
   ]
  }
 ],
 "metadata": {
  "kernelspec": {
   "display_name": "Python 3",
   "language": "python",
   "name": "python3"
  },
  "language_info": {
   "codemirror_mode": {
    "name": "ipython",
    "version": 3
   },
   "file_extension": ".py",
   "mimetype": "text/x-python",
   "name": "python",
   "nbconvert_exporter": "python",
   "pygments_lexer": "ipython3",
   "version": "3.7.0"
  }
 },
 "nbformat": 4,
 "nbformat_minor": 2
}
