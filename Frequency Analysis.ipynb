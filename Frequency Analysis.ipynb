{
 "cells": [
  {
   "cell_type": "code",
   "execution_count": 1,
   "metadata": {},
   "outputs": [
    {
     "name": "stdout",
     "output_type": "stream",
     "text": [
      "importing Jupyter notebook from monoalphabetic_substitution.ipynb\n"
     ]
    }
   ],
   "source": [
    "import numpy as np# array oriented computing package\n",
    "import import_ipynb\n",
    "from itertools import repeat\n",
    "from monoalphabetic_substitution import MonoAlphabeticCipher\n",
    "from monoalphabetic_substitution import getRandomKey\n",
    "import time \n",
    "from random import randint"
   ]
  },
  {
   "cell_type": "markdown",
   "metadata": {},
   "source": [
    "## Histogram下的频率分析"
   ]
  },
  {
   "cell_type": "markdown",
   "metadata": {},
   "source": [
    "首先咱们尝试最简单的方案,即简单的比较密文(Cipher Text)当中字母的频率与大数据结果的差异,并通过类似于$\\chi^2$test的方法来评判\n",
    "\n",
    "通过简单的频率分析后的密钥解密出来的结果与正常英文材料之间的差异.并通过调整密钥中字母以及符号的排列顺序使得结果更好."
   ]
  },
  {
   "cell_type": "markdown",
   "metadata": {},
   "source": [
    "### 0:准备"
   ]
  },
  {
   "cell_type": "markdown",
   "metadata": {},
   "source": [
    "**0.1** 这一步首先LETTERS里面确认key包含的符号,也就是哪些符号需要参与替换"
   ]
  },
  {
   "cell_type": "code",
   "execution_count": 2,
   "metadata": {},
   "outputs": [],
   "source": [
    "LETTERS= ' abcdefghijklmnopqrstuvwxyz'"
   ]
  },
  {
   "cell_type": "markdown",
   "metadata": {},
   "source": [
    "**0.2** 这一步需要建立letterCount的值为0的字典用于之后计算频数,频率以及排序"
   ]
  },
  {
   "cell_type": "code",
   "execution_count": 3,
   "metadata": {},
   "outputs": [],
   "source": [
    "letterCount = {' ':0,'a': 0, 'b': 0, 'c': 0, 'd': 0, 'e': 0, 'f': 0, 'g': 0, 'h': 0, 'i': 0, 'j': 0, 'k': 0, 'l': 0, 'm': 0, 'n': 0, 'o': 0, 'p': 0, 'q': 0, 'r': 0, 's': 0, 't': 0, 'u': 0, 'v': 0, 'w': 0, 'x': 0, 'y': 0, 'z': 0}"
   ]
  },
  {
   "cell_type": "markdown",
   "metadata": {},
   "source": [
    "### 1:建立计算频数并排序的函数HistogramFreqExtract"
   ]
  },
  {
   "cell_type": "code",
   "execution_count": 4,
   "metadata": {},
   "outputs": [],
   "source": [
    "def HistogramFreqExtract(message):\n",
    "# 0.每次提取都要让leterCount归零\n",
    "    letterCount = {' ':0,'a': 0, 'b': 0, 'c': 0, 'd': 0, 'e': 0, 'f': 0, 'g': 0, 'h': 0, 'i': 0, 'j': 0, 'k': 0, 'l': 0, 'm': 0, 'n': 0, 'o': 0, 'p': 0, 'q': 0, 'r': 0, 's': 0, 't': 0, 'u': 0, 'v': 0, 'w': 0, 'x': 0, 'y': 0, 'z': 0}\n",
    "# 1.算出文章中字母和空格的个数\n",
    "    message=message.lower()\n",
    "    message=message.replace('\\n','')\n",
    "    AlphaNumber=0\n",
    "    for letter in message:\n",
    "        if letter in LETTERS:\n",
    "            AlphaNumber+=1\n",
    "# 2.算出字母的频数\n",
    "    for letter in message.lower():   \n",
    "        if letter in LETTERS: \n",
    "            letterCount[letter] += 1 \n",
    "# 3.算出字母的频率\n",
    "\n",
    "    MessageCount=list(letterCount.values())\n",
    "    MessageFreqArray=(np.asarray(MessageCount)/AlphaNumber)*100\n",
    "    MessageFreqList=MessageFreqArray.tolist()# numpy中的函数,能把array变成list\n",
    "    DictLetterFreq=dict(zip(list(letterCount.keys()),MessageFreqList)) #两个list通过zip()变成有序对,然后dict()变成字典 \n",
    "\n",
    "    return DictLetterFreq"
   ]
  },
  {
   "cell_type": "markdown",
   "metadata": {},
   "source": [
    "### 2:提取总体的频率作为保准频率"
   ]
  },
  {
   "cell_type": "markdown",
   "metadata": {},
   "source": [
    "这一步需要一个英语文字(或者其他类似语言)的范本,数据量要足够的大,下面会把这个范本里面的字符的频率提取出来作为标准频率\n",
    "\n",
    "这里采用的是一些经典的著名英文小说作为范本,你可以从这里免费下载text格式文件:www.gutenberg.org"
   ]
  },
  {
   "cell_type": "code",
   "execution_count": 5,
   "metadata": {},
   "outputs": [],
   "source": [
    "with open('english.txt', 'r') as EnglishData:\n",
    "    EnglishData=EnglishData.read()\n",
    "HistoramNumFreq=HistogramFreqExtract(EnglishData)"
   ]
  },
  {
   "cell_type": "markdown",
   "metadata": {},
   "source": [
    "### 3:建立评价函数"
   ]
  },
  {
   "cell_type": "code",
   "execution_count": 6,
   "metadata": {},
   "outputs": [],
   "source": [
    "def HistogramMatchScore(message):\n",
    "    LetterFreqList=list(HistogramFreqExtract(message).values())\n",
    "    HistogramFreqList=list(HistoramNumFreq.values())\n",
    "    LetterFreqArray=np.asarray(LetterFreqList)\n",
    "    HistogramFreqArray=np.asarray(HistogramFreqList)\n",
    "    Score=sum(np.absolute(LetterFreqArray-HistogramFreqArray))\n",
    "    return Score"
   ]
  },
  {
   "cell_type": "markdown",
   "metadata": {},
   "source": [
    "### 4:建立分析函数"
   ]
  },
  {
   "cell_type": "markdown",
   "metadata": {},
   "source": [
    "**4.1** 一些前期准备"
   ]
  },
  {
   "cell_type": "code",
   "execution_count": 7,
   "metadata": {},
   "outputs": [],
   "source": [
    "# 这个函数会用于排序\n",
    "def getItemAtIndexOne(x):\n",
    "    return x[1]\n",
    "def getItemAtIndexZero(x):\n",
    "    return x[0]"
   ]
  },
  {
   "cell_type": "markdown",
   "metadata": {},
   "source": [
    "之所以要排序,是因为后面建立评价函数的时候,是样本的各个符号对应的频率和总体的大数据对应符号的频率做差.所以一定是**相同符号频率的差**,所以为了统一处理需要做一个排序"
   ]
  },
  {
   "cell_type": "code",
   "execution_count": 8,
   "metadata": {},
   "outputs": [],
   "source": [
    "# 建立交换key中任何两个字符位置的函数\n",
    "def Swap(key,symbolA,symbolB):\n",
    "    ListKey=list(key)\n",
    "    ListKey[key.find(symbolA)],ListKey[key.find(symbolB)]=ListKey[key.find(symbolB)],ListKey[key.find(symbolA)]\n",
    "    key=''.join(ListKey)\n",
    "    return key"
   ]
  },
  {
   "cell_type": "markdown",
   "metadata": {},
   "source": [
    "下面这个函数是给密钥中的字符按照频率顺序排序,这将作为最后分析函数密钥的**初始值**\n",
    "\n",
    "注意这个函数也是要用于bigram皮女郎分析函数当中的初始值的"
   ]
  },
  {
   "cell_type": "code",
   "execution_count": 9,
   "metadata": {},
   "outputs": [],
   "source": [
    "# 这个函数是把字母按照频率由高到低进行排序的函数\n",
    "# 定义这个函数有五个步骤\n",
    "def FreqOrderkey(message):\n",
    "    message=message.lower()\n",
    "    message=message.replace('\\n','')\n",
    "# 1.得到按照频率由高到低的排序\n",
    "    letterToFreq =HistogramFreqExtract(message)\n",
    "    freqPairs = list(letterToFreq.items())\n",
    "    freqPairs.sort(key=getItemAtIndexOne, reverse=True)\n",
    "    \n",
    "    freqOrder = []\n",
    "    for freqPair in freqPairs:\n",
    "        freqOrder.append(freqPair[0])\n",
    "        \n",
    "\n",
    "    return ''.join(freqOrder)"
   ]
  },
  {
   "cell_type": "code",
   "execution_count": 10,
   "metadata": {},
   "outputs": [],
   "source": [
    "# 建立一个密钥转换函数:把按照频率对应的密钥,即对应' etaoi...'的密钥转换成对应' abcde....'的密钥\n",
    "def convertKey(freqOrder):\n",
    "    keyList=freqOrder\n",
    "    etaoiList=list(' etaoinshrdlcumwfgypbvkjxqz')\n",
    "    keyPairs=list(zip(keyList,etaoiList))\n",
    "    keyPairs.sort(key=getItemAtIndexOne)\n",
    "    \n",
    "    key=[]\n",
    "    for keyPair in keyPairs:      \n",
    "        key.append(keyPair[0])\n",
    "    return ''.join(key)"
   ]
  },
  {
   "cell_type": "markdown",
   "metadata": {},
   "source": [
    "没有比要做histogram的迭代频率分析函数,因为直接简单的分析得到的结果通过评价函数得到的分数比明文还低,所以再做循环完全是没有任何必要的"
   ]
  },
  {
   "cell_type": "markdown",
   "metadata": {},
   "source": [
    "## Bigram下的频率分析"
   ]
  },
  {
   "cell_type": "markdown",
   "metadata": {},
   "source": [
    "### 第一步:从文件中导出数据,作为标准频率"
   ]
  },
  {
   "cell_type": "markdown",
   "metadata": {},
   "source": [
    "**1.1**:从bigrams_from_Google_Web_Trillion_Word_Corpus.txt中调出bigrams全部的676种组合(不包含空格)"
   ]
  },
  {
   "cell_type": "code",
   "execution_count": 11,
   "metadata": {},
   "outputs": [],
   "source": [
    "bigramDataList=list(open('bigrams_from_Google_Web_Trillion_Word_Corpus.txt','r'))\n",
    "bigramLetters=[]\n",
    "for i in range(len(bigramDataList)):\n",
    "    bigramLetters.append(bigramDataList[i][:2])\n",
    "#bigrams_from_Google_Web_Trillion_Word_Corpus.txt这个文件里面没有包含空格的组合\n",
    "#,所以这里要把这部分添加进去,使得结果是27*27=729种组合\n",
    "addBigram1=['  ',' a',' b',' c',' d',' e',' f',' g',' h',' i',' j',' k',' l',' m',' n',' o',' p',' q',' r',' s',' t',' u',' v',' w',' x',' y',' z']\n",
    "addBigram2=['a ','b ','c ','d ','e ','f ','g ','h ','i ','j ','k ','l ','m ','n ','o ','p ','q ','r ','s ','t ','u ','v ','w ','x ','y ','z ']\n",
    "bigramLetters=bigramLetters+addBigram1+addBigram2"
   ]
  },
  {
   "cell_type": "markdown",
   "metadata": {},
   "source": [
    "### 第二步:建立能从材料得到bigram数据的函数"
   ]
  },
  {
   "cell_type": "markdown",
   "metadata": {},
   "source": [
    "建立bigramCount函数,从材料中提取出bigram的频数,这一步暂且不计算频率和顺序"
   ]
  },
  {
   "cell_type": "code",
   "execution_count": 12,
   "metadata": {},
   "outputs": [],
   "source": [
    "# 这个函数需要之前的那值为0的字典:bigramCountDict\n",
    "# 本函数不需要排序是因为提取大数据和样本都是用的同样的bigramCountDict种的顺序\n",
    "def bigramFreqExtract(message):\n",
    "# 0.先让bigramCount归零\n",
    "    bigramCount=dict(zip(bigramLetters,list(repeat(0,729))))\n",
    "# 1.1整理材料,去除非LETTERS中的字符\n",
    "    message=message.lower()\n",
    "    message=message.replace('\\n','')\n",
    "# 1.2然后去掉材料中非字母部分(不包括空格,空格在字母表中),得到NewMessage\n",
    "    NewMessage=[]\n",
    "    for letter in message:\n",
    "        if letter in LETTERS:  #区别是字母还是符号主要看是不是在字母表LETTERS当中\n",
    "            NewMessage.append(letter)\n",
    "# 2.得到bigrams\n",
    "    bigramFromNewMessage=[]\n",
    "    for j in range(len(NewMessage)-1): #因为后面是位移一位前进,所以这里要减一,这样倒数二位加一正好len的长度\n",
    "        bigramFromNewMessage.append(''.join(NewMessage[j:j+2]))\n",
    "# 3.得到频数\n",
    "    for bigram in bigramFromNewMessage:\n",
    "        bigramCount[bigram]+=1\n",
    "# 4.得到频率\n",
    "# 4.1先计算总数\n",
    "    AlphaNumber=0\n",
    "    for letter in message:\n",
    "        if letter in LETTERS:\n",
    "            AlphaNumber+=1\n",
    "# 4.2计算频率\n",
    "    bigramCountValues=list(bigramCount.values())\n",
    "    bigramCountKeys=list(bigramCount.keys())\n",
    "    bigramCountValuesArray=np.asarray(bigramCountValues)\n",
    "    #和上面的bigramsNumFreq一致采用百分数\n",
    "    bigramFreqArray=(bigramCountValuesArray/AlphaNumber)*100 \n",
    "    bigramFreqList=bigramFreqArray.tolist()\n",
    "    #这里得到字典是为了之后按照 bigramsNumFreq对应的顺序排序\n",
    "    bigramExtractDict=dict(zip(bigramCountKeys,bigramFreqList)) \n",
    "# 5.提取数据\n",
    "    bigramExtractDictPairs=list(bigramExtractDict.items())\n",
    "    bigramExtractNumFreq=[]\n",
    "    for bigramExtractDictPair in bigramExtractDictPairs:\n",
    "        bigramExtractNumFreq.append(bigramExtractDictPair[1])\n",
    "# 6.为了后面的使用\n",
    "    \n",
    "    return bigramExtractNumFreq\n"
   ]
  },
  {
   "cell_type": "markdown",
   "metadata": {},
   "source": [
    "**2.1:** 用bgramFreqExtract函数导出EnglishData当中的bigram数据\n",
    "EnglishData就是histogram分析里面的'MobyDick.txt','UncleTom’sCabin.txt'文字材料"
   ]
  },
  {
   "cell_type": "code",
   "execution_count": 13,
   "metadata": {},
   "outputs": [],
   "source": [
    "# 先把bigram数据做好,保留下来,免得测量函数部分继续计算\n",
    "bigramNumFreq=bigramFreqExtract(EnglishData)"
   ]
  },
  {
   "cell_type": "markdown",
   "metadata": {},
   "source": [
    "### 第三步:建立测量函数"
   ]
  },
  {
   "cell_type": "markdown",
   "metadata": {},
   "source": [
    "建立函数bigramMatchScore函数,用于对比给定材料和通常英文材料之间的差异,分数越大差异越大"
   ]
  },
  {
   "cell_type": "code",
   "execution_count": 14,
   "metadata": {},
   "outputs": [],
   "source": [
    "def bigramMatchScore(message):\n",
    "    bigramExtractArray=np.asarray(bigramFreqExtract(message)) # 从需要频率分析的材料中提取出来的bigram数据\n",
    "    bigramDataArray=np.asarray(bigramNumFreq)                  # 从大数据文件中提取出来的bigram数据\n",
    "    bigramScore=np.sum(np.absolute(bigramExtractArray-bigramDataArray))\n",
    "    return bigramScore"
   ]
  },
  {
   "cell_type": "markdown",
   "metadata": {},
   "source": [
    "\n",
    "### 第四步:建立bigramAnalysis函数"
   ]
  },
  {
   "cell_type": "markdown",
   "metadata": {},
   "source": [
    "bigramAnalysis将由一个简单频率分析(Histogram)分析得到的key作为初始的key,然交换密钥中字母的顺序以得到更小的bigramScore"
   ]
  },
  {
   "cell_type": "code",
   "execution_count": 21,
   "metadata": {},
   "outputs": [],
   "source": [
    "def bigramFreqAnalysis(Cipher,n):\n",
    "    Cipher=Cipher.lower()\n",
    "    Cipher=Cipher.replace('\\n','')\n",
    "    FreqKey=FreqOrderkey(Cipher) #这里的key是按照频率排序来的,并不是标准格式的key,所以需要转换\n",
    "    key=convertKey(FreqKey)      #转换为标准格式的key\n",
    "    Translation=MonoAlphabeticCipher(key,Cipher,'decrypt')\n",
    "    Score=bigramMatchScore(Translation)\n",
    "# 1.按照频率对Freqkey进行交换,优化破译结果\n",
    "    for b in range(1,27):\n",
    "        a=0\n",
    "        while a+b<=26:\n",
    "            FreqKey0=Swap(FreqKey,FreqKey[a],FreqKey[a+b]) #交换是按照频率顺序交换的,所以是交换Freqkey而不是标准key\n",
    "            key0=convertKey(FreqKey0)\n",
    "            Translation0=MonoAlphabeticCipher(key0,Cipher,'decrypt')\n",
    "            Score0=bigramMatchScore(Translation0)\n",
    "            a+=1\n",
    "            if Score0<Score:\n",
    "                FreqKey=FreqKey0\n",
    "                Translation=Translation0\n",
    "                Score=Score0\n",
    "# 2.往往第一阶段完成以后结果还不是最好,所以接下来随机的进行替换,使得结果更好\n",
    "\n",
    "    key=convertKey(FreqKey) #得到上一个阶段最后的密钥的标准格式\n",
    "    \n",
    "    for i in range(0,n):  # n是循环的次数\n",
    "        RandChoiceA=randint(0,26) #得到1到27的随机整数\n",
    "        RandChoiceB=randint(0,26)\n",
    "        if RandChoiceA!=RandChoiceB:\n",
    "            key0=Swap(key,key[RandChoiceA],key[RandChoiceB]) #随机交换密钥中两个字母的顺序\n",
    "            Translation0=MonoAlphabeticCipher(key0,Cipher,'decrypt') # 解密\n",
    "            Score0=bigramMatchScore(Translation0) # 评价\n",
    "            if Score0<Score: #如果评价更好,得到新的密钥\n",
    "                key=key0\n",
    "                Translation=Translation0\n",
    "                Score=Score0\n",
    "                \n",
    "    return Translation"
   ]
  },
  {
   "cell_type": "markdown",
   "metadata": {},
   "source": [
    "## 测试"
   ]
  },
  {
   "cell_type": "markdown",
   "metadata": {},
   "source": [
    "### 1:明文"
   ]
  },
  {
   "cell_type": "markdown",
   "metadata": {},
   "source": [
    "明文不需要预处理,因为处理的函数写进了每一个Exract函数"
   ]
  },
  {
   "cell_type": "code",
   "execution_count": 17,
   "metadata": {},
   "outputs": [
    {
     "data": {
      "text/plain": [
       "'\\nIn cryptography, a substitution cipher is a method of encrypting by which units of plaintext are replaced with ciphertext, according to a fixed system; the \"units\" may be single letters (the most common), pairs of letters, triplets of letters, mixtures of the above, and so forth. The receiver deciphers the text by performing the inverse substitution.\\n\\nSubstitution ciphers can be compared with transposition ciphers. In a transposition cipher, the units of the plaintext are rearranged in a different and usually quite complex order, but the units themselves are left unchanged. By contrast, in a substitution cipher, the units of the plaintext are retained in the same sequence in the ciphertext, but the units themselves are altered.\\n\\nThere are a number of different types of substitution cipher. If the cipher operates on single letters, it is termed a simple substitution cipher; a cipher that operates on larger groups of letters is termed polygraphic. A monoalphabetic cipher uses fixed substitution over the entire message, whereas a polyalphabetic cipher uses a number of substitutions at different positions in the message, where a unit from the plaintext is mapped to one of several possibilities in the ciphertext and vice versa. \\n'"
      ]
     },
     "execution_count": 17,
     "metadata": {},
     "output_type": "execute_result"
    }
   ],
   "source": [
    "PlainText='''\n",
    "In cryptography, a substitution cipher is a method of encrypting by which units of plaintext are replaced with ciphertext, according to a fixed system; the \"units\" may be single letters (the most common), pairs of letters, triplets of letters, mixtures of the above, and so forth. The receiver deciphers the text by performing the inverse substitution.\n",
    "\n",
    "Substitution ciphers can be compared with transposition ciphers. In a transposition cipher, the units of the plaintext are rearranged in a different and usually quite complex order, but the units themselves are left unchanged. By contrast, in a substitution cipher, the units of the plaintext are retained in the same sequence in the ciphertext, but the units themselves are altered.\n",
    "\n",
    "There are a number of different types of substitution cipher. If the cipher operates on single letters, it is termed a simple substitution cipher; a cipher that operates on larger groups of letters is termed polygraphic. A monoalphabetic cipher uses fixed substitution over the entire message, whereas a polyalphabetic cipher uses a number of substitutions at different positions in the message, where a unit from the plaintext is mapped to one of several possibilities in the ciphertext and vice versa. \n",
    "'''\n",
    "PlainText"
   ]
  },
  {
   "cell_type": "markdown",
   "metadata": {},
   "source": [
    "### 2:生成随机密钥并加密"
   ]
  },
  {
   "cell_type": "code",
   "execution_count": 18,
   "metadata": {},
   "outputs": [
    {
     "name": "stdout",
     "output_type": "stream",
     "text": [
      "key:rpflczmhbjetqd osiaynvkuwgx\n",
      "\n",
      "Ciphertext:\n",
      "j rlagsnohapsbg,rpryvfynjnvnjo rljsbzarjyrprdznbocromrz lagsnj hrfgrubjlbrv jnyromrsqpj nzwnrpazrazsqplzcrujnbrljsbzanzwn,rplloacj hrnorprmjwzcrygynzd;rnbzr\"v jny\"rdpgrfzryj hqzrqznnzayr(nbzrdoynrloddo ),rspjayromrqznnzay,rnajsqznyromrqznnzay,rdjwnvazyromrnbzrpfokz,rp cryormoanb.rnbzrazlzjkzarczljsbzayrnbzrnzwnrfgrszamoadj hrnbzrj kzayzryvfynjnvnjo .yvfynjnvnjo rljsbzayrlp rfzrlodspazcrujnbrnap ysoyjnjo rljsbzay.rj rprnap ysoyjnjo rljsbza,rnbzrv jnyromrnbzrsqpj nzwnrpazrazpaap hzcrj rprcjmmzaz nrp crvyvpqqgrivjnzrlodsqzwroacza,rfvnrnbzrv jnyrnbzdyzqkzyrpazrqzmnrv lbp hzc.rfgrlo napyn,rj rpryvfynjnvnjo rljsbza,rnbzrv jnyromrnbzrsqpj nzwnrpazraznpj zcrj rnbzrypdzryzivz lzrj rnbzrljsbzanzwn,rfvnrnbzrv jnyrnbzdyzqkzyrpazrpqnzazc.nbzazrpazrpr vdfzaromrcjmmzaz nrngszyromryvfynjnvnjo rljsbza.rjmrnbzrljsbzaroszapnzyro ryj hqzrqznnzay,rjnrjyrnzadzcrpryjdsqzryvfynjnvnjo rljsbza;rprljsbzarnbpnroszapnzyro rqpahzarhaovsyromrqznnzayrjyrnzadzcrsoqghapsbjl.rprdo opqsbpfznjlrljsbzarvyzyrmjwzcryvfynjnvnjo rokzarnbzrz njazrdzyyphz,rubzazpyrprsoqgpqsbpfznjlrljsbzarvyzyrpr vdfzaromryvfynjnvnjo yrpnrcjmmzaz nrsoyjnjo yrj rnbzrdzyyphz,rubzazrprv jnrmaodrnbzrsqpj nzwnrjyrdpsszcrnoro zromryzkzapqrsoyyjfjqjnjzyrj rnbzrljsbzanzwnrp crkjlzrkzayp.r\n"
     ]
    }
   ],
   "source": [
    "key='rpflczmhbjetqd osiaynvkuwgx'\n",
    "Cipher=MonoAlphabeticCipher(key,PlainText,'encrypt')\n",
    "print('key:%s\\n'%(key))\n",
    "print('Ciphertext:\\n%s'%(Cipher))"
   ]
  },
  {
   "cell_type": "markdown",
   "metadata": {},
   "source": [
    "### 3:测试bigram频率分析"
   ]
  },
  {
   "cell_type": "code",
   "execution_count": 19,
   "metadata": {},
   "outputs": [
    {
     "name": "stdout",
     "output_type": "stream",
     "text": [
      "破译结果:\n",
      "in cryptography, a substitution cipher is a method of encrypting by which units of plaintekt are replaced with ciphertekt, according to a fiked system; the \"units\" may be single letters (the most common), pairs of letters, triplets of letters, miktures of the above, and so forth. the receiver deciphers the tekt by performing the inverse substitution.substitution ciphers can be compared with transposition ciphers. in a transposition cipher, the units of the plaintekt are rearranged in a different and usually quite complek order, but the units themselves are left unchanged. by contrast, in a substitution cipher, the units of the plaintekt are retained in the same sequence in the ciphertekt, but the units themselves are altered.there are a number of different types of substitution cipher. if the cipher operates on single letters, it is termed a simple substitution cipher; a cipher that operates on larger groups of letters is termed polygraphic. a monoalphabetic cipher uses fiked substitution over the entire message, whereas a polyalphabetic cipher uses a number of substitutions at different positions in the message, where a unit from the plaintekt is mapped to one of several possibilities in the ciphertekt and vice versa. \n",
      "破译评价:\n",
      "==============破译时间:3.728910207748413 seconds\n",
      "==============明文得分:71.11314852297146 ponints\n",
      "==============密文得分:173.5862204717452 ponints\n",
      "==============histogram译文得分:114.70348811624602 ponints\n",
      "==============bigram译文得分:71.09227060658752 ponints\n"
     ]
    }
   ],
   "source": [
    "start=time.time()\n",
    "bigramDecrypt=bigramFreqAnalysis(Cipher,2000)\n",
    "end=time.time()\n",
    "\n",
    "convertKey(FreqOrderkey(Cipher))\n",
    "simpleDecrypt=MonoAlphabeticCipher(convertKey(FreqOrderkey(Cipher)),Cipher,'decrypt')\n",
    "\n",
    "print('破译结果:')                   \n",
    "print(bigramDecrypt)\n",
    "print('破译评价:')\n",
    "print('==============破译时间:%s seconds'%(end-start))\n",
    "print('==============明文得分:%s ponints'%(bigramMatchScore(PlainText)))\n",
    "print('==============密文得分:%s ponints'%(bigramMatchScore(Cipher)))\n",
    "print('==============histogram译文得分:%s ponints'%(bigramMatchScore(simpleDecrypt)))\n",
    "print('==============bigram译文得分:%s ponints'%(bigramMatchScore(bigramDecrypt)))"
   ]
  },
  {
   "cell_type": "code",
   "execution_count": null,
   "metadata": {},
   "outputs": [],
   "source": [
    "Translation=MonoAlphabeticCipher(key,Cipher,'decrypt')\n",
    "Translation"
   ]
  },
  {
   "cell_type": "code",
   "execution_count": null,
   "metadata": {},
   "outputs": [],
   "source": [
    "Score=bigramMatchScore(Translation)\n",
    "Score"
   ]
  },
  {
   "cell_type": "code",
   "execution_count": null,
   "metadata": {},
   "outputs": [],
   "source": [
    "FreqKey0=Swap(FreqKey,FreqKey[3],FreqKey[4])\n",
    "FreqKey0"
   ]
  },
  {
   "cell_type": "code",
   "execution_count": null,
   "metadata": {},
   "outputs": [],
   "source": [
    "key0=convertKey(FreqKey0)\n",
    "key0"
   ]
  },
  {
   "cell_type": "code",
   "execution_count": null,
   "metadata": {},
   "outputs": [],
   "source": [
    "Translation0=MonoAlphabeticCipher(key0,Cipher,'decrypt')\n",
    "Translation0"
   ]
  },
  {
   "cell_type": "code",
   "execution_count": null,
   "metadata": {},
   "outputs": [],
   "source": [
    "Score0=bigramMatchScore(Translation0)\n",
    "Score0"
   ]
  },
  {
   "cell_type": "code",
   "execution_count": null,
   "metadata": {},
   "outputs": [],
   "source": []
  },
  {
   "cell_type": "code",
   "execution_count": null,
   "metadata": {},
   "outputs": [],
   "source": []
  },
  {
   "cell_type": "code",
   "execution_count": null,
   "metadata": {},
   "outputs": [],
   "source": []
  }
 ],
 "metadata": {
  "kernelspec": {
   "display_name": "Python 3",
   "language": "python",
   "name": "python3"
  },
  "language_info": {
   "codemirror_mode": {
    "name": "ipython",
    "version": 3
   },
   "file_extension": ".py",
   "mimetype": "text/x-python",
   "name": "python",
   "nbconvert_exporter": "python",
   "pygments_lexer": "ipython3",
   "version": "3.7.0"
  }
 },
 "nbformat": 4,
 "nbformat_minor": 2
}
